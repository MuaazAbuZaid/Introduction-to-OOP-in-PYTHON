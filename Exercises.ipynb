{
 "cells": [
  {
   "cell_type": "code",
   "execution_count": 1,
   "metadata": {},
   "outputs": [
    {
     "name": "stdout",
     "output_type": "stream",
     "text": [
      "['__abs__', '__add__', '__bool__', '__ceil__', '__class__', '__delattr__', '__dir__', '__divmod__', '__doc__', '__eq__', '__float__', '__floor__', '__floordiv__', '__format__', '__ge__', '__getattribute__', '__getformat__', '__getnewargs__', '__getstate__', '__gt__', '__hash__', '__init__', '__init_subclass__', '__int__', '__le__', '__lt__', '__mod__', '__mul__', '__ne__', '__neg__', '__new__', '__pos__', '__pow__', '__radd__', '__rdivmod__', '__reduce__', '__reduce_ex__', '__repr__', '__rfloordiv__', '__rmod__', '__rmul__', '__round__', '__rpow__', '__rsub__', '__rtruediv__', '__setattr__', '__sizeof__', '__str__', '__sub__', '__subclasshook__', '__truediv__', '__trunc__', 'as_integer_ratio', 'conjugate', 'fromhex', 'hex', 'imag', 'is_integer', 'real']\n"
     ]
    }
   ],
   "source": [
    "ratio = 12 / 8\n",
    "\n",
    "# List all attributes and methods for the ratio object\n",
    "print(dir(ratio))"
   ]
  },
  {
   "cell_type": "code",
   "execution_count": 2,
   "metadata": {},
   "outputs": [
    {
     "name": "stdout",
     "output_type": "stream",
     "text": [
      "['__abs__', '__add__', '__bool__', '__ceil__', '__class__', '__delattr__', '__dir__', '__divmod__', '__doc__', '__eq__', '__float__', '__floor__', '__floordiv__', '__format__', '__ge__', '__getattribute__', '__getformat__', '__getnewargs__', '__getstate__', '__gt__', '__hash__', '__init__', '__init_subclass__', '__int__', '__le__', '__lt__', '__mod__', '__mul__', '__ne__', '__neg__', '__new__', '__pos__', '__pow__', '__radd__', '__rdivmod__', '__reduce__', '__reduce_ex__', '__repr__', '__rfloordiv__', '__rmod__', '__rmul__', '__round__', '__rpow__', '__rsub__', '__rtruediv__', '__setattr__', '__sizeof__', '__str__', '__sub__', '__subclasshook__', '__truediv__', '__trunc__', 'as_integer_ratio', 'conjugate', 'fromhex', 'hex', 'imag', 'is_integer', 'real']\n"
     ]
    }
   ],
   "source": [
    "# List all attributes and methods for the float class\n",
    "print(dir(float))"
   ]
  },
  {
   "cell_type": "code",
   "execution_count": 3,
   "metadata": {},
   "outputs": [
    {
     "name": "stdout",
     "output_type": "stream",
     "text": [
      "50000\n"
     ]
    }
   ],
   "source": [
    "class Employee:\n",
    "  def set_name(self, new_name):\n",
    "    self.name = new_name\n",
    "  \n",
    "  # Add set_salary() method  \n",
    "  def set_salary(self, new_salary):\n",
    "    self.salary = new_salary\n",
    "\n",
    "emp = Employee()\n",
    "\n",
    "# Use set_name to set the name of emp to 'Korel Rossi'\n",
    "emp.set_name('Korel Rossi')\n",
    "\n",
    "# Set the salary of emp to 50000\n",
    "emp.set_salary(50000)\n",
    "\n",
    "# Print the emp object's salary\n",
    "print(emp.salary)"
   ]
  },
  {
   "cell_type": "code",
   "execution_count": 4,
   "metadata": {},
   "outputs": [
    {
     "name": "stdout",
     "output_type": "stream",
     "text": [
      "Invalid salary!\n",
      "Korel Rossi\n",
      "0\n"
     ]
    }
   ],
   "source": [
    "class Employee:\n",
    "  def __init__(self, name, salary=0):\n",
    "    self.name = name\n",
    "    # Check if salary is positive\n",
    "    if salary > 0:\n",
    "      self.salary = salary\n",
    "    else:\n",
    "      self.salary = 0\n",
    "      print(\"Invalid salary!\")\n",
    "\n",
    "  def give_raise(self, amount):\n",
    "    self.salary += amount\n",
    "\n",
    "  def monthly_salary(self):\n",
    "    return self.salary / 12\n",
    "      \n",
    "emp = Employee(\"Korel Rossi\", -1000)\n",
    "print(emp.name)\n",
    "print(emp.salary)"
   ]
  },
  {
   "cell_type": "code",
   "execution_count": null,
   "metadata": {},
   "outputs": [],
   "source": [
    "# Define and initialize the Calculator class\n",
    "class Calculator:\n",
    "  def __init__(self, num_one, num_two):\n",
    "    self.num_one = num_one\n",
    "    self.num_two = num_two\n",
    "  \n",
    "  # Create the addition method\n",
    "  def addition(self):\n",
    "    return self.num_one + self.num_two\n",
    "  \n",
    "  # Create the subtraction method\n",
    "  def subtraction(self):\n",
    "    return self.num_one - self.num_two\n",
    "  \n",
    "  # Create the multiplication method\n",
    "  def multiplication(self):\n",
    "    return self.num_one * self.num_two"
   ]
  },
  {
   "cell_type": "code",
   "execution_count": 6,
   "metadata": {},
   "outputs": [
    {
     "name": "stdout",
     "output_type": "stream",
     "text": [
      "10\n"
     ]
    }
   ],
   "source": [
    "# Create a Player class\n",
    "class Player:\n",
    "  \n",
    "  # Create MAX_POSITION class attribute\n",
    "  MAX_POSITION = 10\n",
    "  \n",
    "  # Add a constructor, setting position to zero\n",
    "  def __init__(self, position=0):\n",
    "    self.position = position\n",
    "\n",
    "# Create a player p and print its MAX_POSITION\n",
    "p = Player()\n",
    "print(p.MAX_POSITION)"
   ]
  },
  {
   "cell_type": "code",
   "execution_count": 8,
   "metadata": {},
   "outputs": [
    {
     "name": "stdout",
     "output_type": "stream",
     "text": [
      "10\n"
     ]
    }
   ],
   "source": [
    "class Player:\n",
    "  MAX_POSITION = 10\n",
    "  \n",
    "  # Define a constructor\n",
    "  def __init__(self, position):\n",
    "    \n",
    "    # Check if position is less than the class-level attribute value\n",
    "    if position <= Player.MAX_POSITION:\n",
    "      self.position = position\n",
    "    \n",
    "    # If not, set equal to the class-level attribute\n",
    "    else:\n",
    "      self.position = Player.MAX_POSITION\n",
    "\n",
    "# Create a Player object, p, and print its MAX_POSITITON\n",
    "p = Player(6)\n",
    "print(p.MAX_POSITION)"
   ]
  },
  {
   "cell_type": "code",
   "execution_count": 9,
   "metadata": {},
   "outputs": [
    {
     "name": "stdout",
     "output_type": "stream",
     "text": [
      "MAX_POSITION of p1 and p2 before assignment:\n",
      "10\n",
      "10\n",
      "MAX_POSITION of p1 and p2 after assignment:\n",
      "7\n",
      "10\n"
     ]
    }
   ],
   "source": [
    "# Create Players p1 and p2\n",
    "p1 = Player(9)\n",
    "p2 = Player(5)\n",
    "\n",
    "print(\"MAX_POSITION of p1 and p2 before assignment:\")\n",
    "# Print p1.MAX_POSITION and p2.MAX_POSITION\n",
    "print(p1.MAX_POSITION)\n",
    "print(p2.MAX_POSITION)\n",
    "\n",
    "# Assign 7 to p1.MAX_POSITION\n",
    "p1.MAX_POSITION = 7\n",
    "\n",
    "print(\"MAX_POSITION of p1 and p2 after assignment:\")\n",
    "# Print p1.MAX_POSITION and p2.MAX_POSITION\n",
    "print(p1.MAX_POSITION)\n",
    "print(p2.MAX_POSITION)"
   ]
  },
  {
   "cell_type": "code",
   "execution_count": 10,
   "metadata": {},
   "outputs": [],
   "source": [
    "class Person:\n",
    "  CURRENT_YEAR = 2024\n",
    "  def __init__(self, name, age):\n",
    "    self.name = name\n",
    "    self.age = age\n",
    "  \n",
    "  # Add a class method decorator\n",
    "  @classmethod\n",
    "  # Define the from_birth_year method\n",
    "  def from_birth_year(cls, name, birth_year):\n",
    "    # Create age\n",
    "    age = Person.CURRENT_YEAR - birth_year\n",
    "    # Return the name and age\n",
    "    return cls(name, age)\n",
    "\n",
    "bob = Person.from_birth_year(\"Bob\", 1990)"
   ]
  },
  {
   "cell_type": "code",
   "execution_count": 11,
   "metadata": {},
   "outputs": [
    {
     "name": "stdout",
     "output_type": "stream",
     "text": [
      "2024\n",
      "12\n",
      "25\n"
     ]
    }
   ],
   "source": [
    "class BetterDate:\n",
    "  def __init__(self, year, month, day):\n",
    "    self.year, self.month, self.day = year, month, day\n",
    "    \n",
    "  # Define a class method from_str\n",
    "  @classmethod\n",
    "  def from_str(cls, datestr):\n",
    "    # Split the string at \"-\"\n",
    "    parts = datestr.split(\"-\")\n",
    "    year, month, day = int(parts[0]), int(parts[1]), int(parts[2])\n",
    "    # Return the class instance\n",
    "    return cls(year, month, day)\n",
    "\n",
    "# Create the xmas object      \n",
    "xmas = BetterDate.from_str(\"2024-12-25\")   \n",
    "print(xmas.year)\n",
    "print(xmas.month)\n",
    "print(xmas.day)"
   ]
  },
  {
   "cell_type": "code",
   "execution_count": 12,
   "metadata": {},
   "outputs": [
    {
     "name": "stdout",
     "output_type": "stream",
     "text": [
      "Debbie Lashko\n"
     ]
    }
   ],
   "source": [
    "class Employee:\n",
    "  MIN_SALARY = 30000    \n",
    "\n",
    "  def __init__(self, name, salary=MIN_SALARY):\n",
    "      self.name = name\n",
    "      if salary >= Employee.MIN_SALARY:\n",
    "        self.salary = salary\n",
    "      else:\n",
    "        self.salary = Employee.MIN_SALARY\n",
    "        \n",
    "  def give_raise(self, amount):\n",
    "      self.salary += amount      \n",
    "        \n",
    "# Define a new class Manager inheriting from Employee\n",
    "class Manager(Employee):\n",
    "  # Add a keyword to leave this class empty\n",
    "  pass\n",
    "\n",
    "# Define a Manager object\n",
    "mng = Manager('Debbie Lashko', 86500)\n",
    "\n",
    "# Print mng's name\n",
    "print(mng.name)"
   ]
  },
  {
   "cell_type": "code",
   "execution_count": 13,
   "metadata": {},
   "outputs": [],
   "source": [
    "class Employee:\n",
    "  def __init__(self, name, salary=30000):\n",
    "    self.name = name\n",
    "    self.salary = salary\n",
    "\n",
    "  def give_raise(self, amount):\n",
    "    self.salary += amount\n",
    "\n",
    "class Manager(Employee):\n",
    "  # Add a constructor \n",
    "  def __init__(self, name, salary=50000, project=None):\n",
    "    \n",
    "    # Call the parent's constructor   \n",
    "    Employee.__init__(self, name, salary)\n",
    "    \n",
    "    # Assign project attribute\n",
    "    self.project = project\n",
    "\n",
    "  def display(self):\n",
    "    print(\"Manager \", self.name)"
   ]
  },
  {
   "cell_type": "code",
   "execution_count": 14,
   "metadata": {},
   "outputs": [
    {
     "name": "stdout",
     "output_type": "stream",
     "text": [
      "80560.0\n"
     ]
    }
   ],
   "source": [
    "class Employee:\n",
    "  def __init__(self, name, salary=30000):\n",
    "    self.name = name\n",
    "    self.salary = salary\n",
    "\n",
    "  def give_raise(self, amount):\n",
    "    self.salary += amount\n",
    "\n",
    "class Manager(Employee):\n",
    "  def display(self):\n",
    "    print(\"Manager \", self.name)\n",
    "\n",
    "  def __init__(self, name, salary=50000, project=None):\n",
    "    Employee.__init__(self, name, salary)\n",
    "    self.project = project\n",
    "\n",
    "  # Add a give_raise method\n",
    "  def give_raise(self, amount, bonus=1.05):\n",
    "    new_amount = amount * bonus\n",
    "    Employee.give_raise(self, new_amount)\n",
    "    \n",
    "mngr = Manager(\"Ashta Dunbar\", 78500)\n",
    "mngr.give_raise(2000, bonus=1.03)\n",
    "print(mngr.salary)"
   ]
  },
  {
   "cell_type": "code",
   "execution_count": 15,
   "metadata": {},
   "outputs": [
    {
     "ename": "TypeError",
     "evalue": "Player.__init__() missing 1 required positional argument: 'position'",
     "output_type": "error",
     "traceback": [
      "\u001b[1;31m---------------------------------------------------------------------------\u001b[0m",
      "\u001b[1;31mTypeError\u001b[0m                                 Traceback (most recent call last)",
      "Cell \u001b[1;32mIn[15], line 7\u001b[0m\n\u001b[0;32m      4\u001b[0m   MAX_POSITION \u001b[38;5;241m=\u001b[39m \u001b[38;5;241m15\u001b[39m\n\u001b[0;32m      6\u001b[0m \u001b[38;5;66;03m# Create a Player and a Racer objects\u001b[39;00m\n\u001b[1;32m----> 7\u001b[0m p \u001b[38;5;241m=\u001b[39m Player()\n\u001b[0;32m      8\u001b[0m r \u001b[38;5;241m=\u001b[39m Racer()\n\u001b[0;32m     10\u001b[0m \u001b[38;5;28mprint\u001b[39m(\u001b[38;5;124m\"\u001b[39m\u001b[38;5;124mp.MAX_POSITION = \u001b[39m\u001b[38;5;124m\"\u001b[39m, p\u001b[38;5;241m.\u001b[39mMAX_POSITION)\n",
      "\u001b[1;31mTypeError\u001b[0m: Player.__init__() missing 1 required positional argument: 'position'"
     ]
    }
   ],
   "source": [
    "class Player:\n",
    "    MAX_POSITION = 10\n",
    "\n",
    "    def __init__(self):\n",
    "      self.position = 0\n",
    "\n",
    "    def move(self, steps):\n",
    "      if self.position + steps < Player.MAX_POSITION:\n",
    "        self.position += steps \n",
    "      else:\n",
    "        self.position = Player.MAX_POSITION    \n",
    "        \n",
    "# Create a Racer class inheriting from Player\n",
    "class Racer(Player):\n",
    "  # Create MAX_POSITION with a value of 15\n",
    "  MAX_POSITION = 15\n",
    "  \n",
    "# Create a Player and a Racer objects\n",
    "p = Player()\n",
    "r = Racer()\n",
    "\n",
    "print(\"p.MAX_POSITION = \", p.MAX_POSITION)\n",
    "print(\"r.MAX_POSITION = \", r.MAX_POSITION)"
   ]
  }
 ],
 "metadata": {
  "kernelspec": {
   "display_name": "first",
   "language": "python",
   "name": "python3"
  },
  "language_info": {
   "codemirror_mode": {
    "name": "ipython",
    "version": 3
   },
   "file_extension": ".py",
   "mimetype": "text/x-python",
   "name": "python",
   "nbconvert_exporter": "python",
   "pygments_lexer": "ipython3",
   "version": "3.12.7"
  }
 },
 "nbformat": 4,
 "nbformat_minor": 2
}
